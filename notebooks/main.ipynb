{
 "cells": [
  {
   "cell_type": "markdown",
   "id": "f3521a88",
   "metadata": {},
   "source": [
    "# Project NLP Customer reviews"
   ]
  },
  {
   "cell_type": "markdown",
   "id": "98c3dc7b",
   "metadata": {},
   "source": [
    "Read CSV file and import functions from `../utils`"
   ]
  },
  {
   "cell_type": "code",
   "execution_count": 1,
   "id": "3d7440ac",
   "metadata": {},
   "outputs": [
    {
     "data": {
      "text/html": [
       "<div>\n",
       "<style scoped>\n",
       "    .dataframe tbody tr th:only-of-type {\n",
       "        vertical-align: middle;\n",
       "    }\n",
       "\n",
       "    .dataframe tbody tr th {\n",
       "        vertical-align: top;\n",
       "    }\n",
       "\n",
       "    .dataframe thead th {\n",
       "        text-align: right;\n",
       "    }\n",
       "</style>\n",
       "<table border=\"1\" class=\"dataframe\">\n",
       "  <thead>\n",
       "    <tr style=\"text-align: right;\">\n",
       "      <th></th>\n",
       "      <th>id</th>\n",
       "      <th>dateAdded</th>\n",
       "      <th>dateUpdated</th>\n",
       "      <th>name</th>\n",
       "      <th>asins</th>\n",
       "      <th>brand</th>\n",
       "      <th>categories</th>\n",
       "      <th>primaryCategories</th>\n",
       "      <th>imageURLs</th>\n",
       "      <th>keys</th>\n",
       "      <th>...</th>\n",
       "      <th>reviews.didPurchase</th>\n",
       "      <th>reviews.doRecommend</th>\n",
       "      <th>reviews.id</th>\n",
       "      <th>reviews.numHelpful</th>\n",
       "      <th>reviews.rating</th>\n",
       "      <th>reviews.sourceURLs</th>\n",
       "      <th>reviews.text</th>\n",
       "      <th>reviews.title</th>\n",
       "      <th>reviews.username</th>\n",
       "      <th>sourceURLs</th>\n",
       "    </tr>\n",
       "  </thead>\n",
       "  <tbody>\n",
       "    <tr>\n",
       "      <th>0</th>\n",
       "      <td>AVpgNzjwLJeJML43Kpxn</td>\n",
       "      <td>2015-10-30T08:59:32Z</td>\n",
       "      <td>2019-04-25T09:08:16Z</td>\n",
       "      <td>AmazonBasics AAA Performance Alkaline Batterie...</td>\n",
       "      <td>B00QWO9P0O,B00LH3DMUO</td>\n",
       "      <td>Amazonbasics</td>\n",
       "      <td>AA,AAA,Health,Electronics,Health &amp; Household,C...</td>\n",
       "      <td>Health &amp; Beauty</td>\n",
       "      <td>https://images-na.ssl-images-amazon.com/images...</td>\n",
       "      <td>amazonbasics/hl002619,amazonbasicsaaaperforman...</td>\n",
       "      <td>...</td>\n",
       "      <td>NaN</td>\n",
       "      <td>NaN</td>\n",
       "      <td>NaN</td>\n",
       "      <td>NaN</td>\n",
       "      <td>3</td>\n",
       "      <td>https://www.amazon.com/product-reviews/B00QWO9...</td>\n",
       "      <td>I order 3 of them and one of the item is bad q...</td>\n",
       "      <td>... 3 of them and one of the item is bad quali...</td>\n",
       "      <td>Byger yang</td>\n",
       "      <td>https://www.barcodable.com/upc/841710106442,ht...</td>\n",
       "    </tr>\n",
       "    <tr>\n",
       "      <th>1</th>\n",
       "      <td>AVpgNzjwLJeJML43Kpxn</td>\n",
       "      <td>2015-10-30T08:59:32Z</td>\n",
       "      <td>2019-04-25T09:08:16Z</td>\n",
       "      <td>AmazonBasics AAA Performance Alkaline Batterie...</td>\n",
       "      <td>B00QWO9P0O,B00LH3DMUO</td>\n",
       "      <td>Amazonbasics</td>\n",
       "      <td>AA,AAA,Health,Electronics,Health &amp; Household,C...</td>\n",
       "      <td>Health &amp; Beauty</td>\n",
       "      <td>https://images-na.ssl-images-amazon.com/images...</td>\n",
       "      <td>amazonbasics/hl002619,amazonbasicsaaaperforman...</td>\n",
       "      <td>...</td>\n",
       "      <td>NaN</td>\n",
       "      <td>NaN</td>\n",
       "      <td>NaN</td>\n",
       "      <td>NaN</td>\n",
       "      <td>4</td>\n",
       "      <td>https://www.amazon.com/product-reviews/B00QWO9...</td>\n",
       "      <td>Bulk is always the less expensive way to go fo...</td>\n",
       "      <td>... always the less expensive way to go for pr...</td>\n",
       "      <td>ByMG</td>\n",
       "      <td>https://www.barcodable.com/upc/841710106442,ht...</td>\n",
       "    </tr>\n",
       "    <tr>\n",
       "      <th>2</th>\n",
       "      <td>AVpgNzjwLJeJML43Kpxn</td>\n",
       "      <td>2015-10-30T08:59:32Z</td>\n",
       "      <td>2019-04-25T09:08:16Z</td>\n",
       "      <td>AmazonBasics AAA Performance Alkaline Batterie...</td>\n",
       "      <td>B00QWO9P0O,B00LH3DMUO</td>\n",
       "      <td>Amazonbasics</td>\n",
       "      <td>AA,AAA,Health,Electronics,Health &amp; Household,C...</td>\n",
       "      <td>Health &amp; Beauty</td>\n",
       "      <td>https://images-na.ssl-images-amazon.com/images...</td>\n",
       "      <td>amazonbasics/hl002619,amazonbasicsaaaperforman...</td>\n",
       "      <td>...</td>\n",
       "      <td>NaN</td>\n",
       "      <td>NaN</td>\n",
       "      <td>NaN</td>\n",
       "      <td>NaN</td>\n",
       "      <td>5</td>\n",
       "      <td>https://www.amazon.com/product-reviews/B00QWO9...</td>\n",
       "      <td>Well they are not Duracell but for the price i...</td>\n",
       "      <td>... are not Duracell but for the price i am ha...</td>\n",
       "      <td>BySharon Lambert</td>\n",
       "      <td>https://www.barcodable.com/upc/841710106442,ht...</td>\n",
       "    </tr>\n",
       "    <tr>\n",
       "      <th>3</th>\n",
       "      <td>AVpgNzjwLJeJML43Kpxn</td>\n",
       "      <td>2015-10-30T08:59:32Z</td>\n",
       "      <td>2019-04-25T09:08:16Z</td>\n",
       "      <td>AmazonBasics AAA Performance Alkaline Batterie...</td>\n",
       "      <td>B00QWO9P0O,B00LH3DMUO</td>\n",
       "      <td>Amazonbasics</td>\n",
       "      <td>AA,AAA,Health,Electronics,Health &amp; Household,C...</td>\n",
       "      <td>Health &amp; Beauty</td>\n",
       "      <td>https://images-na.ssl-images-amazon.com/images...</td>\n",
       "      <td>amazonbasics/hl002619,amazonbasicsaaaperforman...</td>\n",
       "      <td>...</td>\n",
       "      <td>NaN</td>\n",
       "      <td>NaN</td>\n",
       "      <td>NaN</td>\n",
       "      <td>NaN</td>\n",
       "      <td>5</td>\n",
       "      <td>https://www.amazon.com/product-reviews/B00QWO9...</td>\n",
       "      <td>Seem to work as well as name brand batteries a...</td>\n",
       "      <td>... as well as name brand batteries at a much ...</td>\n",
       "      <td>Bymark sexson</td>\n",
       "      <td>https://www.barcodable.com/upc/841710106442,ht...</td>\n",
       "    </tr>\n",
       "    <tr>\n",
       "      <th>4</th>\n",
       "      <td>AVpgNzjwLJeJML43Kpxn</td>\n",
       "      <td>2015-10-30T08:59:32Z</td>\n",
       "      <td>2019-04-25T09:08:16Z</td>\n",
       "      <td>AmazonBasics AAA Performance Alkaline Batterie...</td>\n",
       "      <td>B00QWO9P0O,B00LH3DMUO</td>\n",
       "      <td>Amazonbasics</td>\n",
       "      <td>AA,AAA,Health,Electronics,Health &amp; Household,C...</td>\n",
       "      <td>Health &amp; Beauty</td>\n",
       "      <td>https://images-na.ssl-images-amazon.com/images...</td>\n",
       "      <td>amazonbasics/hl002619,amazonbasicsaaaperforman...</td>\n",
       "      <td>...</td>\n",
       "      <td>NaN</td>\n",
       "      <td>NaN</td>\n",
       "      <td>NaN</td>\n",
       "      <td>NaN</td>\n",
       "      <td>5</td>\n",
       "      <td>https://www.amazon.com/product-reviews/B00QWO9...</td>\n",
       "      <td>These batteries are very long lasting the pric...</td>\n",
       "      <td>... batteries are very long lasting the price ...</td>\n",
       "      <td>Bylinda</td>\n",
       "      <td>https://www.barcodable.com/upc/841710106442,ht...</td>\n",
       "    </tr>\n",
       "  </tbody>\n",
       "</table>\n",
       "<p>5 rows × 24 columns</p>\n",
       "</div>"
      ],
      "text/plain": [
       "                     id             dateAdded           dateUpdated  \\\n",
       "0  AVpgNzjwLJeJML43Kpxn  2015-10-30T08:59:32Z  2019-04-25T09:08:16Z   \n",
       "1  AVpgNzjwLJeJML43Kpxn  2015-10-30T08:59:32Z  2019-04-25T09:08:16Z   \n",
       "2  AVpgNzjwLJeJML43Kpxn  2015-10-30T08:59:32Z  2019-04-25T09:08:16Z   \n",
       "3  AVpgNzjwLJeJML43Kpxn  2015-10-30T08:59:32Z  2019-04-25T09:08:16Z   \n",
       "4  AVpgNzjwLJeJML43Kpxn  2015-10-30T08:59:32Z  2019-04-25T09:08:16Z   \n",
       "\n",
       "                                                name                  asins  \\\n",
       "0  AmazonBasics AAA Performance Alkaline Batterie...  B00QWO9P0O,B00LH3DMUO   \n",
       "1  AmazonBasics AAA Performance Alkaline Batterie...  B00QWO9P0O,B00LH3DMUO   \n",
       "2  AmazonBasics AAA Performance Alkaline Batterie...  B00QWO9P0O,B00LH3DMUO   \n",
       "3  AmazonBasics AAA Performance Alkaline Batterie...  B00QWO9P0O,B00LH3DMUO   \n",
       "4  AmazonBasics AAA Performance Alkaline Batterie...  B00QWO9P0O,B00LH3DMUO   \n",
       "\n",
       "          brand                                         categories  \\\n",
       "0  Amazonbasics  AA,AAA,Health,Electronics,Health & Household,C...   \n",
       "1  Amazonbasics  AA,AAA,Health,Electronics,Health & Household,C...   \n",
       "2  Amazonbasics  AA,AAA,Health,Electronics,Health & Household,C...   \n",
       "3  Amazonbasics  AA,AAA,Health,Electronics,Health & Household,C...   \n",
       "4  Amazonbasics  AA,AAA,Health,Electronics,Health & Household,C...   \n",
       "\n",
       "  primaryCategories                                          imageURLs  \\\n",
       "0   Health & Beauty  https://images-na.ssl-images-amazon.com/images...   \n",
       "1   Health & Beauty  https://images-na.ssl-images-amazon.com/images...   \n",
       "2   Health & Beauty  https://images-na.ssl-images-amazon.com/images...   \n",
       "3   Health & Beauty  https://images-na.ssl-images-amazon.com/images...   \n",
       "4   Health & Beauty  https://images-na.ssl-images-amazon.com/images...   \n",
       "\n",
       "                                                keys  ... reviews.didPurchase  \\\n",
       "0  amazonbasics/hl002619,amazonbasicsaaaperforman...  ...                 NaN   \n",
       "1  amazonbasics/hl002619,amazonbasicsaaaperforman...  ...                 NaN   \n",
       "2  amazonbasics/hl002619,amazonbasicsaaaperforman...  ...                 NaN   \n",
       "3  amazonbasics/hl002619,amazonbasicsaaaperforman...  ...                 NaN   \n",
       "4  amazonbasics/hl002619,amazonbasicsaaaperforman...  ...                 NaN   \n",
       "\n",
       "  reviews.doRecommend reviews.id reviews.numHelpful reviews.rating  \\\n",
       "0                 NaN        NaN                NaN              3   \n",
       "1                 NaN        NaN                NaN              4   \n",
       "2                 NaN        NaN                NaN              5   \n",
       "3                 NaN        NaN                NaN              5   \n",
       "4                 NaN        NaN                NaN              5   \n",
       "\n",
       "                                  reviews.sourceURLs  \\\n",
       "0  https://www.amazon.com/product-reviews/B00QWO9...   \n",
       "1  https://www.amazon.com/product-reviews/B00QWO9...   \n",
       "2  https://www.amazon.com/product-reviews/B00QWO9...   \n",
       "3  https://www.amazon.com/product-reviews/B00QWO9...   \n",
       "4  https://www.amazon.com/product-reviews/B00QWO9...   \n",
       "\n",
       "                                        reviews.text  \\\n",
       "0  I order 3 of them and one of the item is bad q...   \n",
       "1  Bulk is always the less expensive way to go fo...   \n",
       "2  Well they are not Duracell but for the price i...   \n",
       "3  Seem to work as well as name brand batteries a...   \n",
       "4  These batteries are very long lasting the pric...   \n",
       "\n",
       "                                       reviews.title  reviews.username  \\\n",
       "0  ... 3 of them and one of the item is bad quali...        Byger yang   \n",
       "1  ... always the less expensive way to go for pr...              ByMG   \n",
       "2  ... are not Duracell but for the price i am ha...  BySharon Lambert   \n",
       "3  ... as well as name brand batteries at a much ...     Bymark sexson   \n",
       "4  ... batteries are very long lasting the price ...           Bylinda   \n",
       "\n",
       "                                          sourceURLs  \n",
       "0  https://www.barcodable.com/upc/841710106442,ht...  \n",
       "1  https://www.barcodable.com/upc/841710106442,ht...  \n",
       "2  https://www.barcodable.com/upc/841710106442,ht...  \n",
       "3  https://www.barcodable.com/upc/841710106442,ht...  \n",
       "4  https://www.barcodable.com/upc/841710106442,ht...  \n",
       "\n",
       "[5 rows x 24 columns]"
      ]
     },
     "execution_count": 1,
     "metadata": {},
     "output_type": "execute_result"
    }
   ],
   "source": [
    "# Import data\n",
    "import sys\n",
    "sys.path.append(\"..\")\n",
    "from utils.data_process import df\n",
    "df.head()"
   ]
  },
  {
   "cell_type": "markdown",
   "id": "067f0f1c",
   "metadata": {},
   "source": [
    "## Data processing"
   ]
  },
  {
   "cell_type": "markdown",
   "id": "b99e258f",
   "metadata": {},
   "source": [
    "### Tokenization"
   ]
  },
  {
   "cell_type": "code",
   "execution_count": 2,
   "id": "6aacb85c",
   "metadata": {},
   "outputs": [
    {
     "data": {
      "text/plain": [
       "1    [Bulk, is, always, the, less, expensive, way, ...\n",
       "2    [Well, they, are, not, Duracell, but, for, the...\n",
       "3    [Seem, to, work, as, well, as, name, brand, ba...\n",
       "4    [These, batteries, are, very, long, lasting, t...\n",
       "5    [Bought, a, lot, of, batteries, for, Christmas...\n",
       "Name: tokens, dtype: object"
      ]
     },
     "execution_count": 2,
     "metadata": {},
     "output_type": "execute_result"
    }
   ],
   "source": [
    "from utils.data_process import tokenize\n",
    "tokenize(df)\n",
    "df[\"tokens\"][1:6]"
   ]
  },
  {
   "cell_type": "markdown",
   "id": "513a554d",
   "metadata": {},
   "source": [
    "### Clean data"
   ]
  },
  {
   "cell_type": "code",
   "execution_count": 3,
   "id": "3ae359a0",
   "metadata": {},
   "outputs": [
    {
     "data": {
      "text/html": [
       "<div>\n",
       "<style scoped>\n",
       "    .dataframe tbody tr th:only-of-type {\n",
       "        vertical-align: middle;\n",
       "    }\n",
       "\n",
       "    .dataframe tbody tr th {\n",
       "        vertical-align: top;\n",
       "    }\n",
       "\n",
       "    .dataframe thead th {\n",
       "        text-align: right;\n",
       "    }\n",
       "</style>\n",
       "<table border=\"1\" class=\"dataframe\">\n",
       "  <thead>\n",
       "    <tr style=\"text-align: right;\">\n",
       "      <th></th>\n",
       "      <th>cleaned_text</th>\n",
       "    </tr>\n",
       "  </thead>\n",
       "  <tbody>\n",
       "    <tr>\n",
       "      <th>0</th>\n",
       "      <td>i order of them and one of the item is bad qua...</td>\n",
       "    </tr>\n",
       "    <tr>\n",
       "      <th>1</th>\n",
       "      <td>bulk is always the less expensive way to go fo...</td>\n",
       "    </tr>\n",
       "    <tr>\n",
       "      <th>2</th>\n",
       "      <td>well they are not duracell but for the price i...</td>\n",
       "    </tr>\n",
       "    <tr>\n",
       "      <th>3</th>\n",
       "      <td>seem to work as well as name brand batteries a...</td>\n",
       "    </tr>\n",
       "    <tr>\n",
       "      <th>4</th>\n",
       "      <td>these batteries are very long lasting the pric...</td>\n",
       "    </tr>\n",
       "  </tbody>\n",
       "</table>\n",
       "</div>"
      ],
      "text/plain": [
       "                                        cleaned_text\n",
       "0  i order of them and one of the item is bad qua...\n",
       "1  bulk is always the less expensive way to go fo...\n",
       "2  well they are not duracell but for the price i...\n",
       "3  seem to work as well as name brand batteries a...\n",
       "4  these batteries are very long lasting the pric..."
      ]
     },
     "execution_count": 3,
     "metadata": {},
     "output_type": "execute_result"
    }
   ],
   "source": [
    "from utils.data_process import clean_text, filter_data, remove_empty, remove_duplicates\n",
    "df['cleaned_text'] = df['reviews.text'].astype(str).apply(clean_text)\n",
    "filter_data(df)\n",
    "remove_empty(df)\n",
    "df_filtered = remove_duplicates(df)\n",
    "df_filtered[['cleaned_text']].head()"
   ]
  },
  {
   "cell_type": "markdown",
   "id": "1949b9ee",
   "metadata": {},
   "source": [
    "## Exploring products metadata for clustering"
   ]
  },
  {
   "cell_type": "markdown",
   "id": "9b56e88e",
   "metadata": {},
   "source": [
    "#### Brands"
   ]
  },
  {
   "cell_type": "code",
   "execution_count": 4,
   "id": "7ba74363",
   "metadata": {},
   "outputs": [
    {
     "name": "stdout",
     "output_type": "stream",
     "text": [
      "(3, brand\n",
      "Amazon          16153\n",
      "Amazonbasics    12169\n",
      "AmazonBasics       10\n",
      "Name: count, dtype: int64)\n"
     ]
    }
   ],
   "source": [
    "from utils.metadata import unique_brands\n",
    "print(unique_brands(df_filtered))"
   ]
  },
  {
   "cell_type": "markdown",
   "id": "16503b80",
   "metadata": {},
   "source": [
    "#### Categories"
   ]
  },
  {
   "cell_type": "code",
   "execution_count": 5,
   "id": "5616d892",
   "metadata": {},
   "outputs": [
    {
     "data": {
      "text/plain": [
       "(60,\n",
       " 19947    Fire Tablets,Computers/Tablets & Networking,Wa...\n",
       " 7445     AA,AAA,Health,Electronics,Health & Household,C...\n",
       " 3525     AA,AAA,Health,Electronics,Health & Household,C...\n",
       " 24122    Computers,Fire Tablets,Electronics Features,Co...\n",
       " 25572    Fire Tablets,Tablets,All Tablets,Amazon Tablet...\n",
       " Name: categories, dtype: object)"
      ]
     },
     "execution_count": 5,
     "metadata": {},
     "output_type": "execute_result"
    }
   ],
   "source": [
    "from utils.metadata import unique_categories\n",
    "unique_categories(df_filtered)"
   ]
  },
  {
   "cell_type": "markdown",
   "id": "4f25e884",
   "metadata": {},
   "source": [
    "#### Primary categories"
   ]
  },
  {
   "cell_type": "code",
   "execution_count": 6,
   "id": "de364f5d",
   "metadata": {},
   "outputs": [
    {
     "data": {
      "text/plain": [
       "(9,\n",
       " primaryCategories\n",
       " Electronics                    13995\n",
       " Health & Beauty                12071\n",
       " Toys & Games,Electronics        1676\n",
       " Office Supplies,Electronics      386\n",
       " Electronics,Media                185\n",
       " Office Supplies                    9\n",
       " Animals & Pet Supplies             6\n",
       " Home & Garden                      2\n",
       " Electronics,Furniture              2\n",
       " Name: count, dtype: int64)"
      ]
     },
     "execution_count": 6,
     "metadata": {},
     "output_type": "execute_result"
    }
   ],
   "source": [
    "from utils.metadata import unique_primary_categories\n",
    "unique_primary_categories(df_filtered)"
   ]
  },
  {
   "cell_type": "markdown",
   "id": "17651094",
   "metadata": {},
   "source": [
    "#### Manufacturers"
   ]
  },
  {
   "cell_type": "code",
   "execution_count": 7,
   "id": "9e581826",
   "metadata": {},
   "outputs": [
    {
     "data": {
      "text/plain": [
       "(4,\n",
       " manufacturer\n",
       " Amazon                     16130\n",
       " AmazonBasics               12179\n",
       " Amazon Digital Services       18\n",
       " Amazon.com                     5\n",
       " Name: count, dtype: int64)"
      ]
     },
     "execution_count": 7,
     "metadata": {},
     "output_type": "execute_result"
    }
   ],
   "source": [
    "from utils.metadata import unique_manufacturers\n",
    "unique_manufacturers(df_filtered)"
   ]
  },
  {
   "cell_type": "markdown",
   "id": "7f1a4a5c",
   "metadata": {},
   "source": [
    "#### Products"
   ]
  },
  {
   "cell_type": "code",
   "execution_count": 8,
   "id": "9ff0deb6",
   "metadata": {},
   "outputs": [
    {
     "data": {
      "text/plain": [
       "(65,\n",
       " 19947    All-New Fire HD 8 Kids Edition Tablet, 8 HD Di...\n",
       " 7445     AmazonBasics AAA Performance Alkaline Batterie...\n",
       " 3525     AmazonBasics AAA Performance Alkaline Batterie...\n",
       " 24122    Fire Kids Edition Tablet, 7 Display, Wi-Fi, 16...\n",
       " 25572    Fire Kids Edition Tablet, 7 Display, Wi-Fi, 16...\n",
       " Name: name, dtype: object)"
      ]
     },
     "execution_count": 8,
     "metadata": {},
     "output_type": "execute_result"
    }
   ],
   "source": [
    "from utils.metadata import unique_product_names\n",
    "unique_product_names(df_filtered)"
   ]
  },
  {
   "cell_type": "markdown",
   "id": "2f478ece",
   "metadata": {},
   "source": [
    "#### Validate clustering"
   ]
  },
  {
   "cell_type": "code",
   "execution_count": null,
   "id": "27c05988",
   "metadata": {},
   "outputs": [],
   "source": [
    "from sklearn.cluster import KMeans\n",
    "from sklearn.metrics import silhouette_score, calinski_harabasz_score, davies_bouldin_score\n",
    "import pandas as pd\n",
    "\n",
    "from sklearn.feature_extraction.text import TfidfVectorizer\n",
    "\n",
    "# Vectorize the cleaned review text\n",
    "vectorizer = TfidfVectorizer(max_features=1000)\n",
    "X = vectorizer.fit_transform(df_filtered['cleaned_text'].astype(str))\n",
    "\n",
    "# Try different numbers of clusters and evaluate\n",
    "scores = []\n",
    "for n_clusters in range(2, 11):\n",
    "\tkmeans = KMeans(n_clusters=n_clusters, random_state=42, n_init=10)\n",
    "\tlabels = kmeans.fit_predict(X)\n",
    "\tsil_score = silhouette_score(X, labels)\n",
    "\tch_score = calinski_harabasz_score(X.toarray(), labels)\n",
    "\tdb_score = davies_bouldin_score(X.toarray(), labels)\n",
    "\tscores.append({\n",
    "\t\t'n_clusters': n_clusters,\n",
    "\t\t'silhouette': sil_score,\n",
    "\t\t'calinski_harabasz': ch_score,\n",
    "\t\t'davies_bouldin': db_score\n",
    "\t})\n",
    "\n",
    "# Display scores\n",
    "pd.DataFrame(scores)"
   ]
  },
  {
   "cell_type": "markdown",
   "id": "2d8b32b1",
   "metadata": {},
   "source": [
    "- The clustering evaluation metrics (Silhouette, Calinski-Harabasz, Davies-Bouldin) indicate that the text-based clusters are not highly separated, as shown by low silhouette scores and relatively high Davies-Bouldin values.\n",
    "- Increasing the number of clusters does not significantly improve the silhouette score, suggesting limited natural grouping in the review text data.\n",
    "- The best Davies-Bouldin score is observed at 8 and 10 clusters, but overall differences are small, indicating that no single cluster count stands out as optimal.\n",
    "- These results suggest that while some structure exists in the review text, the clusters may overlap or be weakly defined, possibly due to the diversity and nuance in customer reviews.\n",
    "- Further feature engineering or the inclusion of additional metadata (e.g., product category, brand) may help improve clustering quality."
   ]
  },
  {
   "cell_type": "markdown",
   "id": "e1a7287c",
   "metadata": {},
   "source": [
    "#### Let's improve clustering\n",
    "\n",
    "Here we will improve clustering by including product metadata (e.g., brand, primaryCategories) as additional features"
   ]
  },
  {
   "cell_type": "code",
   "execution_count": null,
   "id": "d30e49f5",
   "metadata": {},
   "outputs": [],
   "source": [
    "from sklearn.preprocessing import OneHotEncoder\n",
    "from scipy.sparse import hstack\n",
    "from sklearn.metrics import silhouette_score, calinski_harabasz_score, davies_bouldin_score\n",
    "\n",
    "# Select metadata columns to encode\n",
    "meta_features = df_filtered[['brand', 'primaryCategories']].fillna('unknown')\n",
    "\n",
    "# One-hot encode metadata\n",
    "encoder = OneHotEncoder(sparse_output=True)\n",
    "meta_encoded = encoder.fit_transform(meta_features)\n",
    "\n",
    "# Combine text features (X) with metadata features\n",
    "X_combined = hstack([X, meta_encoded])\n",
    "\n",
    "# Re-run clustering\n",
    "kmeans_improved = KMeans(n_clusters=10, random_state=42, n_init=10)\n",
    "labels_improved = kmeans_improved.fit_predict(X_combined)\n",
    "\n",
    "# Evaluate improved clustering\n",
    "\n",
    "sil_score_improved = silhouette_score(X_combined, labels_improved)\n",
    "ch_score_improved = calinski_harabasz_score(X_combined.toarray(), labels_improved)\n",
    "db_score_improved = davies_bouldin_score(X_combined.toarray(), labels_improved)\n",
    "\n",
    "print(\"Silhouette Score:\", sil_score_improved)\n",
    "print(\"Calinski-Harabasz Score:\", ch_score_improved)\n",
    "print(\"Davies-Bouldin Score:\", db_score_improved)"
   ]
  },
  {
   "cell_type": "markdown",
   "id": "3c0c0685",
   "metadata": {},
   "source": [
    "- Including product metadata (brand and primaryCategories) as additional features in clustering improved the separation between clusters, as indicated by a higher Silhouette Score (from ~0.018 to ~0.066).\n",
    "- The Calinski-Harabasz and Davies-Bouldin scores also improved, suggesting better-defined and more compact clusters.\n",
    "- This demonstrates that combining text features with relevant product metadata can enhance the quality of clustering in customer review analysis.\n",
    "- Further improvements may be possible by incorporating additional metadata fields or using more advanced feature engineering techniques."
   ]
  },
  {
   "cell_type": "markdown",
   "id": "d54ec714",
   "metadata": {},
   "source": [
    "## Prepare sentiment labels\n",
    "\n",
    "For each rating, we apply those labels: 1–2 → Negative, 3 → Neutral, 4–5 → Positive."
   ]
  },
  {
   "cell_type": "code",
   "execution_count": null,
   "id": "887b82ab",
   "metadata": {},
   "outputs": [],
   "source": [
    "from scripts.map_sentiments import map_sentiment\n",
    "df_filtered['sentiment'] = df_filtered['reviews.rating'].apply(map_sentiment)\n",
    "df_filtered[['reviews.rating', 'sentiment']].head()"
   ]
  },
  {
   "cell_type": "markdown",
   "id": "f217f3c7",
   "metadata": {},
   "source": [
    "## Preprocessing pipeline"
   ]
  },
  {
   "cell_type": "code",
   "execution_count": null,
   "id": "afdc2982",
   "metadata": {},
   "outputs": [],
   "source": [
    "# Import the preprocessing function\n",
    "from utils.preprocessing_pipeline import full_preprocess_reviews\n",
    "\n",
    "#  Apply full preprocessing\n",
    "df_clean = full_preprocess_reviews(df, column=\"reviews.text\")\n",
    "\n",
    "# Preview results\n",
    "print(\"✅ Preprocessing completed.\")\n",
    "print(\"Shape:\", df_clean.shape)\n",
    "print(\"\\n🔍 Sample cleaned reviews:\")\n",
    "display(df_clean[[\"reviews.text\"]].head(5))\n"
   ]
  }
 ],
 "metadata": {
  "kernelspec": {
   "display_name": ".venv",
   "language": "python",
   "name": "python3"
  },
  "language_info": {
   "codemirror_mode": {
    "name": "ipython",
    "version": 3
   },
   "file_extension": ".py",
   "mimetype": "text/x-python",
   "name": "python",
   "nbconvert_exporter": "python",
   "pygments_lexer": "ipython3",
   "version": "3.13.3"
  }
 },
 "nbformat": 4,
 "nbformat_minor": 5
}
