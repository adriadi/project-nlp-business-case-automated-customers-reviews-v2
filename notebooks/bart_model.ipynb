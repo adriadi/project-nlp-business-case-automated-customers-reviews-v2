{
 "cells": [
  {
   "cell_type": "markdown",
   "id": "90226ee0",
   "metadata": {},
   "source": [
    "# BART model"
   ]
  },
  {
   "cell_type": "code",
   "execution_count": 1,
   "id": "da93576d",
   "metadata": {},
   "outputs": [
    {
     "name": "stderr",
     "output_type": "stream",
     "text": [
      "/Users/juliensebag/Documents/Ironhack AI/week-6/project-nlp-business-case-automated-customers-reviews-v2/.venv/lib/python3.13/site-packages/tqdm/auto.py:21: TqdmWarning: IProgress not found. Please update jupyter and ipywidgets. See https://ipywidgets.readthedocs.io/en/stable/user_install.html\n",
      "  from .autonotebook import tqdm as notebook_tqdm\n"
     ]
    }
   ],
   "source": [
    "# Import and process data\n",
    "from functions.data_process import df\n",
    "from functions.data_process import tokenize, clean_text, filter_data, remove_empty, remove_duplicates\n",
    "\n",
    "df_filtered = df\n",
    "\n",
    "df_filtered = tokenize(df_filtered)\n",
    "\n",
    "df_filtered['cleaned_text'] = df_filtered['reviews.text'].astype(str).apply(clean_text)\n",
    "\n",
    "df_filtered = filter_data(df_filtered)\n",
    "\n",
    "df_filtered = remove_empty(df_filtered)\n",
    "\n",
    "df_filtered = remove_duplicates(df_filtered)"
   ]
  },
  {
   "cell_type": "code",
   "execution_count": 2,
   "id": "5880af11",
   "metadata": {},
   "outputs": [
    {
     "name": "stdout",
     "output_type": "stream",
     "text": [
      "Review 1 summary:\n",
      "i order of them and one of the item is bad quality is missing backup spring so i have to put a pcs of aluminum to make the battery work. i order of. them andone of the items is bad Quality is missing Backup spring so I have to. put acs\n",
      "\n",
      "Review 2 summary:\n",
      "bulk is always the less expensive way to go for products like these. It's also always the cheaper way to get your hands on a range of different colours and designs. For more information on how to buy bulk in the UK, visit www.bulkonline.co.uk\n",
      "\n",
      "Review 3 summary:\n",
      "well they are not duracell but for the price i am happy. i'm happy with the price. i've never seen anything like them. they're not Duracell. but they're good. I'm happy. For the price, I am happy with them.\n",
      "\n",
      "Review 4 summary:\n",
      "seem to work as well as name brand batteries at a much better price. The batteries are also much cheaper than those sold by major retailers like Wal-Mart and Best Buy. For more information on how to buy batteries, go to www.batteries.com.\n",
      "\n",
      "Review 5 summary:\n",
      "bought a lot of batteries for christmas and the amazonbasics cell have been good. i havent noticed a difference between the brand name batteries and amazon basic brand just a lot easier to purchase and have arrive at the house and have on hand will buy again.\n",
      "\n",
      "Review 6 summary:\n",
      "ive not had any problame with these batteries have ordered them in the past been very pleased. Have ordered them from Amazon and have had no problems with them at all. They are a very good value for money and have been very popular with customers. I have ordered from Amazon\n",
      "\n",
      "Review 7 summary:\n",
      "well if you are looking for cheap nonrechargeable batteries that last quite a while then these are perfect nothing more to say. These are perfect for those who want to keep their batteries for a long time. They are very cheap and last for a very long period of time.\n",
      "\n",
      "Review 8 summary:\n",
      "these do not hold the amount of high power juice like energizer or duracell but they are half the price. These don't hold the same amount of power as energizer but they're half the cost. They are also half the size of some of the most popular juice\n",
      "\n",
      "Review 9 summary:\n",
      "amazonbasics aa aaa batteries have done well by me appear to have a good shelf life ill buy them again. AmazonBasics batteries are a good way to test out new batteries. They have a long shelf life and are very easy to use. Amazonbasics batteries\n",
      "\n",
      "Review 10 summary:\n",
      "i find amazon basics batteries to be equal if not superior to name brand ones. cant believe i didnt start buying them sooner the packages are large and the price is great too. I love the Amazon batteries. They are cheap and easy to use and come in a variety of colors.\n",
      "\n"
     ]
    }
   ],
   "source": [
    "from transformers import BartForConditionalGeneration, BartTokenizer\n",
    "\n",
    "bart_model_name = \"facebook/bart-large-cnn\"\n",
    "bart_tokenizer = BartTokenizer.from_pretrained(bart_model_name)\n",
    "bart_model = BartForConditionalGeneration.from_pretrained(bart_model_name)\n",
    "\n",
    "bart_summaries = []\n",
    "for text in df_filtered['cleaned_text'].iloc[:10]:\n",
    "\tinputs = bart_tokenizer([text], max_length=512, truncation=True, return_tensors=\"pt\")\n",
    "\tsummary_ids = bart_model.generate(inputs['input_ids'], num_beams=4, max_length=60, early_stopping=True)\n",
    "\tsummary = bart_tokenizer.decode(summary_ids[0], skip_special_tokens=True)\n",
    "\tbart_summaries.append(summary)\n",
    "\t\n",
    "for i, summary in enumerate(bart_summaries):\n",
    "\tprint(f\"Review {i+1} summary:\\n{summary}\\n\")"
   ]
  },
  {
   "cell_type": "markdown",
   "id": "ba694fb3",
   "metadata": {},
   "source": [
    "## Fine tuning"
   ]
  },
  {
   "cell_type": "code",
   "execution_count": 3,
   "id": "e0c81418",
   "metadata": {},
   "outputs": [
    {
     "name": "stdout",
     "output_type": "stream",
     "text": [
      "Prompt for BART summarization:\n",
      " Summarize this review: i order of them and one of the item is bad quality is missing backup spring so i have to put a pcs of aluminum to make the battery work\n"
     ]
    }
   ],
   "source": [
    "from functions.bart_model import build_bart_summary_prompt\n",
    "\n",
    "example_bart_prompt = build_bart_summary_prompt(df_filtered['cleaned_text'].iloc[0])\n",
    "print(\"Prompt for BART summarization:\\n\", example_bart_prompt)"
   ]
  },
  {
   "cell_type": "markdown",
   "id": "1f78b055",
   "metadata": {},
   "source": [
    "## Extract the 3 top products and differences"
   ]
  },
  {
   "cell_type": "code",
   "execution_count": 4,
   "id": "f4be5e97",
   "metadata": {},
   "outputs": [
    {
     "name": "stdout",
     "output_type": "stream",
     "text": [
      "\n",
      "Product 1: AmazonBasics AAA Performance Alkaline Batteries (36 Count)\n",
      "Number of reviews: 4015\n",
      "Average rating: 4.231880448318805\n",
      "Brands: ['Amazonbasics']\n",
      "Primary Categories: ['Health & Beauty']\n",
      "BART summary: i order of them and one of the item is bad quality is missing backup spring so i have to put a pcs of aluminum to make the battery work. i order of. them andone of the items is bad Quality is missing Backup spring so I have to. put acs\n",
      "\n",
      "Product 2: Fire HD 8 Tablet with Alexa, 8 HD Display, 16 GB, Tangerine - with Special Offers\n",
      "Number of reviews: 2209\n",
      "Average rating: 4.596197374377547\n",
      "Brands: ['Amazon']\n",
      "Primary Categories: ['Electronics']\n",
      "BART summary: while there are some apps that are missing due to not using the google play store the list is minimal. The tablet itself is quick responsive and noticeable nicer than the fire picked this up when it was on sale for black friday sales. Its great for in front of the tv and catching\n",
      "\n",
      "Product 3: All-New Fire HD 8 Tablet, 8 HD Display, Wi-Fi, 16 GB - Includes Special Offers, Black\n",
      "Number of reviews: 2141\n",
      "Average rating: 4.577300326950024\n",
      "Brands: ['Amazon']\n",
      "Primary Categories: ['Electronics']\n",
      "BART summary: while there are some apps that are missing due to not using the google play store the list is minimal. The tablet itself is quick responsive and noticeable nicer than the fire picked this up when it was on sale for black friday sales. Its great for in front of the tv and catching\n"
     ]
    }
   ],
   "source": [
    "from functions.bart_model import get_top_products\n",
    "get_top_products(df_filtered)"
   ]
  },
  {
   "cell_type": "code",
   "execution_count": 5,
   "id": "a8e13270",
   "metadata": {},
   "outputs": [
    {
     "name": "stdout",
     "output_type": "stream",
     "text": [
      "\n",
      "Differences between top products:\n",
      "\n",
      "Product 1 vs Product 2:\n",
      "Brand difference: {'Amazonbasics', 'Amazon'}\n",
      "Primary category difference: {'Electronics', 'Health & Beauty'}\n",
      "Average rating difference: -0.3643169260587422\n",
      "\n",
      "Product 1 vs Product 3:\n",
      "Brand difference: {'Amazonbasics', 'Amazon'}\n",
      "Primary category difference: {'Electronics', 'Health & Beauty'}\n",
      "Average rating difference: -0.34541987863121904\n",
      "\n",
      "Product 2 vs Product 3:\n",
      "Brand difference: set()\n",
      "Primary category difference: set()\n",
      "Average rating difference: 0.018897047427523184\n"
     ]
    }
   ],
   "source": [
    "from functions.bart_model import compare_differences\n",
    "compare_differences(df_filtered)"
   ]
  },
  {
   "cell_type": "markdown",
   "id": "d9b045b2",
   "metadata": {},
   "source": [
    "## Extract common complaints"
   ]
  },
  {
   "cell_type": "code",
   "execution_count": 6,
   "id": "e6a3f2c7",
   "metadata": {},
   "outputs": [
    {
     "name": "stdout",
     "output_type": "stream",
     "text": [
      "BART summaries of reviews containing common complaint words:\n",
      "\n",
      "Word: batteries (count: 1209)\n",
      "Original review: in my opinion these did not last anywhere near as long as duracel in things like led candles which is crazy and trail cameras cameras were not exposed to cold temps more or less than other batteries we buy in bulk for the north house amazon basics is great for things like sheets and beeding and towels in my opinion the battery life in the large package of aaa and aa size we purchased were lacking\n",
      "BART summary: in my opinion these did not last anywhere near as long as duracel in things like led candles which is crazy and trail cameras cameras were not exposed to cold temps more or less than other batteries. amazon basics is great for things like sheets and beeding and towels in my\n",
      "\n",
      "Word: these (count: 757)\n",
      "Original review: in my opinion these did not last anywhere near as long as duracel in things like led candles which is crazy and trail cameras cameras were not exposed to cold temps more or less than other batteries we buy in bulk for the north house amazon basics is great for things like sheets and beeding and towels in my opinion the battery life in the large package of aaa and aa size we purchased were lacking\n",
      "BART summary: in my opinion these did not last anywhere near as long as duracel in things like led candles which is crazy and trail cameras cameras were not exposed to cold temps more or less than other batteries. amazon basics is great for things like sheets and beeding and towels in my\n",
      "\n",
      "Word: amazon (count: 386)\n",
      "Original review: in my opinion these did not last anywhere near as long as duracel in things like led candles which is crazy and trail cameras cameras were not exposed to cold temps more or less than other batteries we buy in bulk for the north house amazon basics is great for things like sheets and beeding and towels in my opinion the battery life in the large package of aaa and aa size we purchased were lacking\n",
      "BART summary: in my opinion these did not last anywhere near as long as duracel in things like led candles which is crazy and trail cameras cameras were not exposed to cold temps more or less than other batteries. amazon basics is great for things like sheets and beeding and towels in my\n",
      "\n",
      "Word: last (count: 332)\n",
      "Original review: i dont know if i would buy thus brand again seems like they dont last as long as duracell\n",
      "BART summary: i dont know if i would buy thus brand again. seems like they dont last as long as duracell. i would never buy this brand again again. i don't know if I would buy so brand again seems like this brand never lasts as long. i wouldn't buy this\n",
      "\n",
      "Word: battery (count: 283)\n",
      "Original review: in my opinion these did not last anywhere near as long as duracel in things like led candles which is crazy and trail cameras cameras were not exposed to cold temps more or less than other batteries we buy in bulk for the north house amazon basics is great for things like sheets and beeding and towels in my opinion the battery life in the large package of aaa and aa size we purchased were lacking\n",
      "BART summary: in my opinion these did not last anywhere near as long as duracel in things like led candles which is crazy and trail cameras cameras were not exposed to cold temps more or less than other batteries. amazon basics is great for things like sheets and beeding and towels in my\n",
      "\n",
      "Word: use (count: 275)\n",
      "Original review: i can only use these on those indoor flameless candles and even then they dont last very longa little disappointed\n",
      "BART summary: i can only use these on those indoor flameless candles and even then they dont last very long.a little disappointed with the quality of these candles. they look like they would be better used for something like a candle holder. i can only used them on those indoors flameless candle and\n",
      "\n",
      "Word: dont (count: 266)\n",
      "Original review: i dont know if i would buy thus brand again seems like they dont last as long as duracell\n",
      "BART summary: i dont know if i would buy thus brand again. seems like they dont last as long as duracell. i would never buy this brand again again. i don't know if I would buy so brand again seems like this brand never lasts as long. i wouldn't buy this\n",
      "\n",
      "Word: buy (count: 240)\n",
      "Original review: i dont know if i would buy thus brand again seems like they dont last as long as duracell\n",
      "BART summary: i dont know if i would buy thus brand again. seems like they dont last as long as duracell. i would never buy this brand again again. i don't know if I would buy so brand again seems like this brand never lasts as long. i wouldn't buy this\n",
      "\n",
      "Word: bought (count: 213)\n",
      "Original review: first time i bought these they worked well and lasted almost as long as the name brands not the same this time around almost no charge hours of run time junk batteries\n",
      "BART summary: first time i bought these they worked well and lasted almost as long as the name brands. not the same this time around almost no charge hours of run time junk batteries. Almost no charge years of run-time junk batteries in this case. Not the same as the first time i\n",
      "\n",
      "Word: only (count: 203)\n",
      "Original review: i can only use these on those indoor flameless candles and even then they dont last very longa little disappointed\n",
      "BART summary: i can only use these on those indoor flameless candles and even then they dont last very long.a little disappointed with the quality of these candles. they look like they would be better used for something like a candle holder. i can only used them on those indoors flameless candle and\n"
     ]
    }
   ],
   "source": [
    "from functions.bart_model import extract_common_complaints\n",
    "extract_common_complaints(df_filtered)"
   ]
  },
  {
   "cell_type": "markdown",
   "id": "ef41c2c5",
   "metadata": {},
   "source": [
    "## Detect the worst product per category"
   ]
  },
  {
   "cell_type": "code",
   "execution_count": 7,
   "id": "7bf16794",
   "metadata": {},
   "outputs": [
    {
     "name": "stdout",
     "output_type": "stream",
     "text": [
      "Worst product by primary category (BART):\n"
     ]
    },
    {
     "data": {
      "text/html": [
       "<div>\n",
       "<style scoped>\n",
       "    .dataframe tbody tr th:only-of-type {\n",
       "        vertical-align: middle;\n",
       "    }\n",
       "\n",
       "    .dataframe tbody tr th {\n",
       "        vertical-align: top;\n",
       "    }\n",
       "\n",
       "    .dataframe thead th {\n",
       "        text-align: right;\n",
       "    }\n",
       "</style>\n",
       "<table border=\"1\" class=\"dataframe\">\n",
       "  <thead>\n",
       "    <tr style=\"text-align: right;\">\n",
       "      <th></th>\n",
       "      <th>primaryCategories</th>\n",
       "      <th>name</th>\n",
       "      <th>reviews.rating</th>\n",
       "    </tr>\n",
       "  </thead>\n",
       "  <tbody>\n",
       "    <tr>\n",
       "      <th>0</th>\n",
       "      <td>Animals &amp; Pet Supplies</td>\n",
       "      <td>AmazonBasics Double-Door Folding Metal Dog Cra...</td>\n",
       "      <td>3.500000</td>\n",
       "    </tr>\n",
       "    <tr>\n",
       "      <th>1</th>\n",
       "      <td>Electronics</td>\n",
       "      <td>Oem Amazon Kindle Power Usb Adapter Wall Trave...</td>\n",
       "      <td>1.000000</td>\n",
       "    </tr>\n",
       "    <tr>\n",
       "      <th>2</th>\n",
       "      <td>Electronics,Furniture</td>\n",
       "      <td>All-new Echo (2nd Generation) with improved so...</td>\n",
       "      <td>5.000000</td>\n",
       "    </tr>\n",
       "    <tr>\n",
       "      <th>3</th>\n",
       "      <td>Electronics,Media</td>\n",
       "      <td>All-New Kindle Oasis E-reader - 7 High-Resolut...</td>\n",
       "      <td>4.428571</td>\n",
       "    </tr>\n",
       "    <tr>\n",
       "      <th>4</th>\n",
       "      <td>Health &amp; Beauty</td>\n",
       "      <td>AmazonBasics AAA Performance Alkaline Batterie...</td>\n",
       "      <td>4.231880</td>\n",
       "    </tr>\n",
       "    <tr>\n",
       "      <th>5</th>\n",
       "      <td>Home &amp; Garden</td>\n",
       "      <td>AmazonBasics Nespresso Pod Storage Drawer - 50...</td>\n",
       "      <td>5.000000</td>\n",
       "    </tr>\n",
       "    <tr>\n",
       "      <th>6</th>\n",
       "      <td>Office Supplies</td>\n",
       "      <td>Expanding Accordion File Folder Plastic Portab...</td>\n",
       "      <td>5.000000</td>\n",
       "    </tr>\n",
       "    <tr>\n",
       "      <th>7</th>\n",
       "      <td>Office Supplies,Electronics</td>\n",
       "      <td>Kindle E-reader - White, 6 Glare-Free Touchscr...</td>\n",
       "      <td>4.550943</td>\n",
       "    </tr>\n",
       "    <tr>\n",
       "      <th>8</th>\n",
       "      <td>Toys &amp; Games,Electronics</td>\n",
       "      <td>Fire Kids Edition Tablet, 7 Display, Wi-Fi, 16...</td>\n",
       "      <td>4.523179</td>\n",
       "    </tr>\n",
       "  </tbody>\n",
       "</table>\n",
       "</div>"
      ],
      "text/plain": [
       "             primaryCategories  \\\n",
       "0       Animals & Pet Supplies   \n",
       "1                  Electronics   \n",
       "2        Electronics,Furniture   \n",
       "3            Electronics,Media   \n",
       "4              Health & Beauty   \n",
       "5                Home & Garden   \n",
       "6              Office Supplies   \n",
       "7  Office Supplies,Electronics   \n",
       "8     Toys & Games,Electronics   \n",
       "\n",
       "                                                name  reviews.rating  \n",
       "0  AmazonBasics Double-Door Folding Metal Dog Cra...        3.500000  \n",
       "1  Oem Amazon Kindle Power Usb Adapter Wall Trave...        1.000000  \n",
       "2  All-new Echo (2nd Generation) with improved so...        5.000000  \n",
       "3  All-New Kindle Oasis E-reader - 7 High-Resolut...        4.428571  \n",
       "4  AmazonBasics AAA Performance Alkaline Batterie...        4.231880  \n",
       "5  AmazonBasics Nespresso Pod Storage Drawer - 50...        5.000000  \n",
       "6  Expanding Accordion File Folder Plastic Portab...        5.000000  \n",
       "7  Kindle E-reader - White, 6 Glare-Free Touchscr...        4.550943  \n",
       "8  Fire Kids Edition Tablet, 7 Display, Wi-Fi, 16...        4.523179  "
      ]
     },
     "metadata": {},
     "output_type": "display_data"
    },
    {
     "name": "stdout",
     "output_type": "stream",
     "text": [
      "\n",
      "Category: Electronics\n",
      "Product: Oem Amazon Kindle Power Usb Adapter Wall Travel Charger Fire/dx/+micro Usb Cable\n",
      "BART summary of a negative review:\n",
      "is amazon kidding me they want me to pay for an item that is a critical part of the functioning of their product outrageous i will find another v charger. i will. find another charger. amazon.com is the best place to buy a phone charger.\n",
      "\n",
      "Category: Health & Beauty\n",
      "Product: AmazonBasics AAA Performance Alkaline Batteries (36 Count)\n",
      "BART summary of a negative review:\n",
      "i dont know if i would buy thus brand again. seems like they dont last as long as duracell. i would never buy this brand again again. i don't know if I would buy so brand again seems like this brand never lasts as long. i wouldn't buy this\n",
      "\n",
      "Category: Office Supplies,Electronics\n",
      "Product: Kindle E-reader - White, 6 Glare-Free Touchscreen Display, Wi-Fi - Includes Special Offers\n",
      "BART summary of a negative review:\n",
      "am used to kindle fire which i love no light to read by in the dark hard to navigate this was a gift would never purchase on my own. Would never purchase this gift on his own. would never buy this on my alone. would not buy this for myself. would\n",
      "\n",
      "Category: Toys & Games,Electronics\n",
      "Product: Fire Kids Edition Tablet, 7 Display, Wi-Fi, 16 GB, Pink Kid-Proof Case\n",
      "BART summary of a negative review:\n",
      "the screen breaks way to easy it drop one time broke one time. The screen broke way toEasy it drop way toeasy it dropped one time break one time broken. The game was called \"The Game of Thrones\" The game is now called \"Avengers: Infinity War\"\n"
     ]
    }
   ],
   "source": [
    "from functions.bart_model import get_worst_products\n",
    "get_worst_products(df_filtered)"
   ]
  },
  {
   "cell_type": "markdown",
   "id": "62ace0dd",
   "metadata": {},
   "source": [
    "## Evaluation metrics"
   ]
  },
  {
   "cell_type": "code",
   "execution_count": 8,
   "id": "d539f337",
   "metadata": {},
   "outputs": [
    {
     "name": "stdout",
     "output_type": "stream",
     "text": [
      "      Metric     Score\n",
      "0   Accuracy  0.894049\n",
      "1  Precision  0.894049\n",
      "2     Recall  1.000000\n",
      "3   F1-score  0.944061\n"
     ]
    }
   ],
   "source": [
    "from sklearn.metrics import accuracy_score, precision_score, recall_score, f1_score\n",
    "import pandas as pd\n",
    "\n",
    "y_true = (df_filtered['reviews.rating'] >= 4).astype(int)\n",
    "y_pred = [1] * len(y_true)\n",
    "\n",
    "accuracy = accuracy_score(y_true, y_pred)\n",
    "precision = precision_score(y_true, y_pred, zero_division=0)\n",
    "recall = recall_score(y_true, y_pred, zero_division=0)\n",
    "f1 = f1_score(y_true, y_pred, zero_division=0)\n",
    "\n",
    "metrics_df = pd.DataFrame({\n",
    "\t'Metric': ['Accuracy', 'Precision', 'Recall', 'F1-score'],\n",
    "\t'Score': [accuracy, precision, recall, f1]\n",
    "})\n",
    "\n",
    "print(metrics_df)"
   ]
  },
  {
   "cell_type": "markdown",
   "id": "b221b821",
   "metadata": {},
   "source": [
    "## Confusion matrix"
   ]
  },
  {
   "cell_type": "code",
   "execution_count": 9,
   "id": "ddb24a2b",
   "metadata": {},
   "outputs": [
    {
     "data": {
      "image/png": "[encoded data removed]",
      "text/plain": [
       "<Figure size 400x300 with 2 Axes>"
      ]
     },
     "metadata": {},
     "output_type": "display_data"
    }
   ],
   "source": [
    "from sklearn.metrics import confusion_matrix\n",
    "import seaborn as sns\n",
    "\n",
    "import matplotlib.pyplot as plt\n",
    "\n",
    "y_true = (df_filtered['reviews.rating'] >= 4).astype(int)\n",
    "y_pred = [1] * len(y_true)\n",
    "\n",
    "cm = confusion_matrix(y_true, y_pred)\n",
    "plt.figure(figsize=(4, 3))\n",
    "sns.heatmap(cm, annot=True, fmt='d', cmap='Blues', xticklabels=['Negative', 'Positive'], yticklabels=['Negative', 'Positive'])\n",
    "plt.xlabel('Predicted')\n",
    "plt.ylabel('Actual')\n",
    "plt.title('Confusion Matrix')\n",
    "plt.show()"
   ]
  },
  {
   "cell_type": "markdown",
   "id": "ec177dff",
   "metadata": {},
   "source": [
    "## Observations\n",
    "\n",
    "- The BART model (`facebook/bart-large-cnn`) was used to generate summaries for product reviews, with sample outputs stored in `bart_summaries`.\n",
    "- The processed DataFrame `df_filtered` contains 20,519 reviews, including cleaned text and sentiment labels.\n",
    "- Evaluation metrics show high performance:  \n",
    "\t- **Accuracy:** 0.89  \n",
    "\t- **Precision:** 0.89  \n",
    "\t- **Recall:** 1.00  \n",
    "\t- **F1-score:** 0.94  \n",
    "- The confusion matrix indicates that all predictions are positive, resulting in perfect recall but lower precision due to false positives.\n",
    "- The summarization prompt and outputs demonstrate the BART model's ability to condense review content effectively.\n",
    "- The workflow includes steps for data cleaning, summarization, product comparison, complaint extraction, and evaluation, providing a comprehensive analysis pipeline for product reviews."
   ]
  },
  {
   "cell_type": "markdown",
   "id": "25609b2f",
   "metadata": {},
   "source": []
  }
 ],
 "metadata": {
  "kernelspec": {
   "display_name": ".venv",
   "language": "python",
   "name": "python3"
  },
  "language_info": {
   "codemirror_mode": {
    "name": "ipython",
    "version": 3
   },
   "file_extension": ".py",
   "mimetype": "text/x-python",
   "name": "python",
   "nbconvert_exporter": "python",
   "pygments_lexer": "ipython3",
   "version": "3.13.3"
  }
 },
 "nbformat": 4,
 "nbformat_minor": 5
}
